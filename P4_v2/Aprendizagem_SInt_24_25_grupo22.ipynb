{
 "cells": [
  {
   "cell_type": "markdown",
   "id": "7f66f108",
   "metadata": {},
   "source": [
    "# Sistemas Inteligentes 2024/2025\n",
    "\n",
    "## Projeto 4: Aprendizagem Automática\n",
    "---"
   ]
  },
  {
   "cell_type": "markdown",
   "id": "6de88628",
   "metadata": {},
   "source": [
    "## 0. Entrega e Avaliação\n",
    "\n",
    "### Entrega: 4 de Junho às 23:59\n",
    "\n",
    "### Formação de grupos\n",
    "\n",
    "A formação de grupos para o Projeto 4 está aberta até dia **21/maio às 23h59**.\n",
    "\n",
    "**TODOS os alunos devem fazer parte de um grupo**, mesmo que seja um grupo com apenas uma pessoa para fazer o projeto individualmente. Quem não formar grupo antes do final do prazo terá **10% de PENALIZAÇÃO** na nota do projeto.\n",
    "\n",
    "\n",
    "### Ficheiro Jupyter Notebook\n",
    "\n",
    "Um dos elementos a entregar é um ficheiro Jupyter Notebook, que deve ser submetido no link disponibilizado no Moodle. Esse ficheiro deve chamar-se **Aprendizagem_SInt_24_25_grupoXX.ipynb**, onde substituem o **XX** pelo número do grupo. **Só se pretende UMA submissão por grupo**.\n",
    "\n",
    "Quem submeter um ficheiro com a identificação errada do seu grupo, com um formato diferente do pedido, ou qualquer outra situação que não cumpra as regras de submissão, terá **10% de PENALIZAÇÃO** na nota do projeto.\n",
    "\n",
    "Reparem que o Notebook que estão a ler (o enunciado) tem o nome Aprendizagem_SInt_24_25.ipynb. Façam uma cópia deste enunciado, acrescentando ao nome do ficheiro a identificação do vosso grupo, e trabalhem diretamente sobre essa cópia. É importante que o Notebook que entregam mantenha a estrutura deste enunciado. Sigam as regras explicadas em cada seção, ou o vosso projeto poderá não ser avaliado.\n",
    "\n",
    "### Ficheiro Python\n",
    "\n",
    "Todo o código desenvolvido na seção 3 do Notebook deve ser copiado para um ficheiro Python chamado **Aprendizagem_SInt_24_25_grupoXX.py** (a diferença está na extensão), onde substituem o **XX** pelo número do grupo. Este ficheiro deve ser submetido juntamente com o Notebook. Sendo assim, a entrega do trabalho consiste em 2 ficheiros.\n",
    "\n",
    "### Avaliação\n",
    "\n",
    "A avaliação do vosso projeto só será feita se a última célula do vosso Notebook (igual à última célula deste Notebook), identificada com a palavra **VERIFICAÇÃO**, correr sem erros e devolver **OK** em todos os testes de verificação. Esta célula **não avalia** o vosso trabalho, simplesmente verifica se estão a devolver os vossos resultados no formato certo. Caso algum teste de verificação falhe, o resultado será **ERRO** e o trabalho não poderá ser avaliado, tendo assim nota 0.\n",
    "\n",
    "Os elementos usados para avaliação são, para cada modelo pedido:\n",
    "  * A estimativa da qualidade do modelo (expressa com várias métricas, especificadas abaixo)\n",
    "  * O desempenho do modelo em conjuntos de dados novos (que não vos são disponibilizados)\n",
    "\n",
    "Os critérios de avaliação serão, para cada modelo pedido:\n",
    "\n",
    "  * a qualidade esperada do modelo, segundo a estimativa feita\n",
    "  * relação entre os resultados obtidos pelos vossos modelos nos dados novos e a estimativa feita \n",
    "\n",
    "O projeto vale, no total, 2.5 valores, divididos por ambos os critérios de avaliação e pelos três modelos que vos são pedidos.\n",
    "\n",
    "**Dúvidas?** sgsilva@fc.ul.pt"
   ]
  },
  {
   "cell_type": "markdown",
   "id": "0f84244a",
   "metadata": {},
   "source": [
    "## 1. Introdução\n",
    "\n",
    "Neste projeto, fornecemos um conjunto de dados chamado `DadosAprendizagem.csv` (com 6 atributos mais a última coluna, que é a classe, sem cabeçalho) com o qual devem construir **3 classificadores** obtidos com métodos de aprendizagem diferentes: Árvores de Decisão (DT - Decision Trees), K-Vizinhos Mais Próximos (KNN - K-Nearest Neighbors) e Naive Bayes (NB). Para tal, devem usar o scikit-learn, a biblioteca de aprendizagem automática que usamos nas aulas PL.\n",
    "\n",
    "\n",
    "<div style=\"display: flex; align-items: left;\">\n",
    "    <img src=\"pinguim_deslizante.PNG\" alt=\"Left Image\" style=\"border: 0px solid white; width: 100px; margin-right: 40px;\">\n",
    "    <span style=\"display: inline-block; max-width: 350px; text-align: left;\">\n",
    "        <br>Para não fugir ao tema, podemos dizer que estes dados referem-se a caraterísticas de pinguins \n",
    "        (como a altura, peso, cor do bico, etc) e à sua classificação como pinguins deslizantes ou saltitantes. 😊\n",
    "    </span>\n",
    "    <img src=\"pinguim_saltitante.PNG\" alt=\"Right Image\" style=\"border: 0px solid white; width: 100px; margin-left: 40px;\">\n",
    "</div>"
   ]
  },
  {
   "cell_type": "markdown",
   "id": "0ec6dec7",
   "metadata": {},
   "source": [
    "## 2. Métodos e funções permitidos\n",
    "\n",
    "Queremos que utilizem apenas os métodos e funções dados nos guiões das PL, e não queremos que utilizem nada que não faça parte dos guiões (o scikit-learn é um mundo muito vasto). Sendo assim, a primeira célula de código deste Notebook é a importação de **tudo o que podem usar**. Se quiserem usar algo para além disto, devem falar primeiro com os professores (e justificar a necessidade de usar algo que não foi dado):"
   ]
  },
  {
   "cell_type": "code",
   "execution_count": 9,
   "id": "d7ca856a",
   "metadata": {},
   "outputs": [],
   "source": [
    "import os\n",
    "import numpy as np\n",
    "import pandas as pd\n",
    "import matplotlib.pyplot as plt\n",
    "\n",
    "from sklearn.datasets import load_iris\n",
    "from sklearn.datasets import load_diabetes\n",
    "from sklearn.datasets import load_breast_cancer\n",
    "\n",
    "import warnings\n",
    "import random\n",
    "from utilsAA import *\n",
    "\n",
    "from sklearn import tree\n",
    "from sklearn.inspection import DecisionBoundaryDisplay\n",
    "from sklearn.tree import DecisionTreeClassifier, DecisionTreeRegressor\n",
    "from sklearn.neighbors import KNeighborsClassifier, KNeighborsRegressor\n",
    "from sklearn.naive_bayes import GaussianNB, CategoricalNB\n",
    "from sklearn.cluster import AgglomerativeClustering, KMeans\n",
    "import scipy.cluster.hierarchy as sch\n",
    "\n",
    "from sklearn.model_selection import train_test_split\n",
    "from sklearn.model_selection import KFold, StratifiedKFold, ShuffleSplit\n",
    "from sklearn.model_selection import cross_val_score, GridSearchCV, RandomizedSearchCV\n",
    "from sklearn.metrics import mean_squared_error, root_mean_squared_error\n",
    "from sklearn.metrics import accuracy_score, precision_score, recall_score, f1_score\n",
    "from sklearn.metrics import matthews_corrcoef, balanced_accuracy_score\n",
    "from sklearn.metrics import classification_report, confusion_matrix, ConfusionMatrixDisplay\n",
    "from sklearn.metrics import silhouette_score, davies_bouldin_score, calinski_harabasz_score\n",
    "\n",
    "from sklearn.preprocessing import OneHotEncoder, OrdinalEncoder\n",
    "from sklearn.preprocessing import StandardScaler, MinMaxScaler"
   ]
  },
  {
   "cell_type": "markdown",
   "id": "8c2244c3",
   "metadata": {},
   "source": [
    "**ATENÇÃO:** alguns destes imports referem-se a matéria que ainda não foi dada à data de saída do projeto. Aconselhamo-vos a começarem a desenvolver tudo o que já sabem, e depois vão completando e melhorando à medida que é dada a restante matéria. As datas de saída dos restantes guiões são:\n",
    "\n",
    "  * Naive Bayes e Avaliação de Modelos: 2a feira dia 19/maio\n",
    "  * Aprendizagem Não Supervisionada: 2 feira dia 26/maio"
   ]
  },
  {
   "cell_type": "markdown",
   "id": "d638cc51",
   "metadata": {},
   "source": [
    "## 3. O vosso código\n",
    "\n",
    "**Todo o código que desenvolverem nesta seção deve ser copiado para um único ficheiro Python chamado Aprendizagem_SInt_24_25_grupoXX.py, onde substituem o XX pelo número do vosso grupo.**\n",
    "\n",
    "Podem inserir as células que quiserem para escreverem o vosso código. Podem definir as funções auxiliares que quiserem. Mas **não façam mais imports**, pois tudo o que podem usar é importado na célula anterior.\n",
    "\n",
    "Por uma questão de organização, a estrutura desta seção divide-se nas partes:\n",
    "  * 3.1. Carregamento dos dados\n",
    "  * 3.2. Escolha dos parâmetros e eventuais pré-processamentos\n",
    "  * 3.3. Estimativas de qualidade\n",
    "  * 3.4. Criação dos modelos finais\n",
    "  * 3.5. RESULTADOS\n",
    "  \n",
    "Há dois motivos para tal organização:\n",
    "  * Para se habituarem a organizar a vossa *pipeline* de aprendizagem automática desta forma, como foi sugerido nas aulas (separando 'escolha dos parâmetros' de 'estimativa de qualidade' de 'criação dos modelos finais')\n",
    "  * Para que não seja necessário correr todo o vosso Notebook para fazer a avaliação, uma vez que algumas partes podem demorar algum tempo a correr (nomeadamente a parte 3.2).\n",
    "\n",
    "**ATENÇÃO:** Para fazer a avaliação do vosso Notebook, deverá ser necessário correr apenas:\n",
    "  * A célula anterior, que faz os imports\n",
    "  * O código das partes 3.1 e 3.4\n",
    "  * O código da parte 3.5 (com os conjuntos de novos dados que usaremos para a avaliação)\n",
    "  * A célula final de VERIFICAÇÃO (que, se der erros, impedirá a avaliação do projeto)"
   ]
  },
  {
   "cell_type": "markdown",
   "id": "2e300876",
   "metadata": {},
   "source": [
    "### 3.1 Carregamento dos dados\n",
    "\n",
    "Todos os dados que vos são fornecidos para desenvolverem os modelos estão no ficheiro `DadosAprendizagem.csv`, disponibilizado com este enunciado. Na célula em baixo, fazemos já o carregamento desses dados e a sua separação em duas partes: input (os 6 atributos, variável `X`) e output (as classes esperadas, variável `y`)."
   ]
  },
  {
   "cell_type": "code",
   "execution_count": 2,
   "id": "d18acb20",
   "metadata": {},
   "outputs": [],
   "source": [
    "data = pd.read_csv('DadosAprendizagem.csv', header=None) # os dados não têm cabeçalho\n",
    "X = data.iloc[:, :-1]  # todas as colunas exceto a última\n",
    "y = data.iloc[:, -1]  # última coluna"
   ]
  },
  {
   "cell_type": "markdown",
   "id": "943c40a0",
   "metadata": {},
   "source": [
    "Aconselhamo-vos a explorarem os dados antes de iniciarem o trabalho."
   ]
  },
  {
   "cell_type": "markdown",
   "id": "a68cc33d",
   "metadata": {},
   "source": [
    "### 3.2. Escolha dos parâmetros (e eventuais pré-processamentos)\n",
    "\n",
    "Aqui devem desenvolver código que vos ajude a escolher quais os parâmetros a usar para criar os modelos finais, e quais os pré-processamentos de dados que eventualmente ajudem a obter modelos melhores. Não se esqueçam que vos pedimos **3 modelos** criados com 3 métodos diferentes (DT, KNN, NB)!"
   ]
  },
  {
   "cell_type": "code",
   "execution_count": 3,
   "id": "0aef3181",
   "metadata": {},
   "outputs": [],
   "source": [
    "# Aqui acontece magia :-)\n",
    "\n",
    "# O código aqui desenvolvido deve ser todo copiado para o ficheiro Python Aprendizagem_SInt_24_25_grupoXX.py,\n",
    "# onde substituem o XX pelo número do vosso grupo."
   ]
  },
  {
   "cell_type": "markdown",
   "id": "96290d05",
   "metadata": {},
   "source": [
    "### 3.3. Estimativas de qualidade\n",
    "\n",
    "Devem extrair as estimativas de qualidade dos vossos modelos. Queremos que devolvam, para cada um (DT, KNN, NB):\n",
    "  * Accuracy (exatidão, entre 0 e 1):\n",
    "    * Primeiro quartil (Q1)\n",
    "    * Segundo quartil (Q2), ou mediana\n",
    "    * Terceiro quartil (Q3)\n",
    "    * Adjacente superior (limite da haste superior)\n",
    "    * Adjacente inferior (limite da haste inferior)\n",
    "    * Máximo\n",
    "    * Mínimo\n",
    "  * F1 (macro):\n",
    "    * (as mesmas indicadas para accuracy)\n",
    "  * MCC (Matthew's Correlation Coefficient):\n",
    "    * (as mesmas indicadas para accuracy e para F1)\n",
    "  \n",
    "Estas estimativas terão de ser gravadas no ficheiro de resultados, na parte 3.5."
   ]
  },
  {
   "cell_type": "code",
   "execution_count": 4,
   "id": "6d55db84",
   "metadata": {},
   "outputs": [],
   "source": [
    "# Aqui acontece magia :-)\n",
    "\n",
    "# O código aqui desenvolvido deve ser todo copiado para o ficheiro Python Aprendizagem_SInt_24_25_grupoXX.py,\n",
    "# onde substituem o XX pelo número do vosso grupo."
   ]
  },
  {
   "cell_type": "markdown",
   "id": "4cc8593b",
   "metadata": {},
   "source": [
    "### 3.4. Criação dos modelos finais\n",
    "\n",
    "Esta célula deve correr sem erros depois da parte 3.1, sem necessidade de correr as partes 3.2 e 3.3. Os modelos aqui definidos devem ser aqueles que são usados para gerar as previsões na parte 3.5."
   ]
  },
  {
   "cell_type": "code",
   "execution_count": 5,
   "id": "c7879e89",
   "metadata": {},
   "outputs": [],
   "source": [
    "# Aqui acontece magia :-)\n",
    "\n",
    "# O código aqui desenvolvido deve ser todo copiado para o ficheiro Python Aprendizagem_SInt_24_25_grupoXX.py,\n",
    "# onde substituem o XX pelo número do vosso grupo."
   ]
  },
  {
   "cell_type": "markdown",
   "id": "bfb5985f",
   "metadata": {},
   "source": [
    "### 3.5. RESULTADOS\n",
    "\n",
    "Na célula de código seguinte, é **OBRIGATÓRIO** que especifiquem o vosso número de grupo, na linha indicada.\n",
    "\n",
    "Esta célula também especifica o nome do ficheiro de novos dados que se vai usar (por defeito, `DadosNovos.csv`, também fornecido com o enunciado). Os novos dados têm o mesmo número de atributos que `DadosAprendizagem.csv` menos a classe). Esse nome fica guardado na variável **`nome_ficheiro_dados_novos`**.\n",
    "\n",
    "Finalmente, a célula também define o nome que devem usar no ficheiro que guardará os vossos resultados, Resultados_FICHEIRO_SInt_24_25_grupoXX.txt (onde FICHEIRO é o nome do ficheiro de novos dados, sem extensão, e XX é o número do vosso grupo). Esse nome fica guardado na variável **`nome_ficheiro_resultados`**.\n",
    "\n",
    "Faz-se um print destes três elementos, só para verificação.\n",
    "Daqui para a frente devem usar estas três variáveis para identificar estes elementos."
   ]
  },
  {
   "cell_type": "code",
   "execution_count": 6,
   "id": "71c29f1f",
   "metadata": {},
   "outputs": [
    {
     "name": "stdout",
     "output_type": "stream",
     "text": [
      "GRUPO\n",
      "DadosNovos.csv\n",
      "Resultados_DadosNovos_SInt_24_25_grupo0.txt\n"
     ]
    }
   ],
   "source": [
    "# É ABSOLUTAMENTE NECESSÁRIO indicar o número do grupo:\n",
    "# (substituindo 0 pelo número do vosso grupo)\n",
    "GRUPO = 0\n",
    "\n",
    "# Podem alterar o nome do ficheiro se quiserem testar com outros ficheiros\n",
    "nome_ficheiro_dados_novos = \"DadosNovos.csv\" # nome do ficheiro de novos dados\n",
    "# Daqui para a frente, não se usa o nome DadosNovos.csv mas apenas a variável nome_ficheiro_dados_novos\n",
    "\n",
    "# NÃO ALTERAR estas linhas:\n",
    "# Aqui definimos o nome do ficheiro de resultados que devem gravar.\n",
    "FICHEIRO = nome_ficheiro_dados_novos.split(\".\")[0] # nome do ficheiro sem extensão\n",
    "nome_ficheiro_resultados = \"Resultados_\"+FICHEIRO+\"_SInt_24_25_grupo\"+str(GRUPO)+\".txt\"\n",
    "# Daqui para a frente, usa-se a variável nome_ficheiro_resultados para identificar o ficheiro de resultados\n",
    "\n",
    "print(GRUPO)\n",
    "print(nome_ficheiro_dados_novos)\n",
    "print(nome_ficheiro_resultados)\n",
    "\n",
    "# Se desenvolverem algum código extra aqui,\n",
    "# também o devem copiar para o ficheiro Python Aprendizagem_SInt_24_25_grupoXX.py,\n",
    "# onde substituem o XX pelo número do vosso grupo."
   ]
  },
  {
   "cell_type": "markdown",
   "id": "45870a4e",
   "metadata": {},
   "source": [
    "Especificadas as variáveis que identificam o vosso grupo e os ficheiros de dados novos e de resultados, devem agora:\n",
    "\n",
    "  * Usar os modelos finais (criados na parte 3.4) para prever as classes dos novos dados (aplicando-lhes primeiro qualquer pré-processamento que tenha sido usado nos dados de aprendizagem)\n",
    "  * Gravar o ficheiro de resultados no mesmo diretório onde o Notebook é executado. \n",
    "  \n",
    "Este ficheiro de resultados deve conter as estimativas de qualidade obtidas na parte 3.3 e as previsões obtidas pelos modelos finais nos dados novos, e deve ter um formato muito específico, detalhado a seguir. Se não cumprir esse formato, não passará os testes de verificação da célula final e o projeto não poderá ser avaliadao, tendo assim nota 0.\n",
    "\n",
    "Este ficheiro de resultados não deve ser submetido, uma vez que os dados novos a utilizar para fazer a avaliação não são estes. O objetivo desta parte é que possa ser executada com outros conjuntos de dados (realmente usados para avaliação), devolvendo um ficheiro no formato correto para avaliação."
   ]
  },
  {
   "cell_type": "markdown",
   "id": "c80b53b1",
   "metadata": {},
   "source": [
    "#### Formato do ficheiro de resultados:\n",
    "\n",
    "O ficheiro de resultados que a célula seguinte deve gravar, em modo de texto, deve conter a seguinte informação no seguinte formato:\n",
    "\n",
    "  * Primeira linha: o número do vosso grupo (só o número, sem qualquer espaço ou texto a acompanhar)\n",
    "  * Linhas seguintes: as estimativas de qualidade do vosso modelo DT (Árvore de Decisão), uma por linha (só os números)\n",
    "    * Accuracy (exatidão):\n",
    "      * Primeiro quartil (Q1)\n",
    "      * Segundo quartil (Q2), ou mediana\n",
    "      * Terceiro quartil (Q3)\n",
    "      * Adjacente superior (limite da haste superior)\n",
    "      * Adjacente inferior (limite da haste inferior)\n",
    "      * Máximo\n",
    "      * Mínimo\n",
    "    * F1 (macro):\n",
    "      * (as mesmas indicadas para accuracy)\n",
    "    * MCC (Matthew's Correlation Coefficient):\n",
    "      * (as mesmas indicadas para accuracy e para F1)\n",
    "  * Linhas seguintes: as classes previstas pelo vosso modelo DT para os dados de DadosNovos.csv, uma linha por classe prevista (no total, tantas linhas quantas o número de amostras em DadosNovos.csv)\n",
    "  * Linhas seguintes: as estimativas de qualidade do vosso modelo KNN (K-Vizinhos Mais Próximos), uma por linha (só os números)\n",
    "    * (as mesmas indicadas para DT)\n",
    "  * Linhas seguintes: as classes previstas pelo vosso modelo KNN para os dados de DadosNovos.csv, uma linha por classe prevista (no total, tantas linhas quantas o número de amostras em DadosNovos.csv)\n",
    "  * Linhas seguintes: as estimativas de qualidade do vosso modelo NB (Naive Bayes), uma por linha (só os números)\n",
    "    * (as mesmas indicadas para DT e para KNN)\n",
    "  * Linhas seguintes: as classes previstas pelo vosso modelo NB para os dados de DadosNovos.csv, uma linha por classe prevista (no total, tantas linhas quantas o número de amostras em DadosNovos.csv)"
   ]
  },
  {
   "cell_type": "markdown",
   "id": "e21494fa",
   "metadata": {},
   "source": [
    "#### Exemplo de ficheiro de resultados:\n",
    "\n",
    "Fornecemos um ficheiro de resultados de exemplo, chamado `Resultados_DadosNovos_SInt_24_25_grupo0.txt`, para verem o formato esperado. Fornecemos também o mesmo ficheiro com anotações que especificam o que deve estar em cada linha e cada bloco, chamado `ANOTADO_Resultados_DadosNovos_SInt_24_25_grupo0.txt`. Notem que estes resultados, apesar de cumprirem o formato, dão vários erros na verificação da célula final. Experimentem a correr o Notebook original, sem alterações, para verem esses erros no final."
   ]
  },
  {
   "cell_type": "code",
   "execution_count": 7,
   "id": "aaa48d29",
   "metadata": {},
   "outputs": [],
   "source": [
    "# Código que gera e grava os resultados em modo de texto, no formato especificado acima.\n",
    "# Atenção, não usem diretamente os nomes dos ficheiros de dados novos e resultados, mas sim as variáveis:\n",
    "#  nome_ficheiro_dados_novos\n",
    "#  nome_ficheiro_resultados\n",
    "\n",
    "# O código aqui desenvolvido deve ser todo copiado para o ficheiro Python Aprendizagem_SInt_24_25_grupoXX.py,\n",
    "# onde substituem o XX pelo número do vosso grupo."
   ]
  },
  {
   "cell_type": "markdown",
   "id": "d4baf692",
   "metadata": {},
   "source": [
    "## VERIFICAÇÃO\n",
    "\n",
    "A célula seguinte vai verificar se o ficheiro de resultados gravado pela célula anterior cumpre todas as regras. Para que possam submeter o trabalho, têm de obter **OK** em todos os testes. Se obtiverem um ou mais **ERRO**, o trabalho não poderá ser avaliado e terá nota 0."
   ]
  },
  {
   "cell_type": "code",
   "execution_count": 8,
   "id": "fb6a92e1",
   "metadata": {},
   "outputs": [
    {
     "name": "stdout",
     "output_type": "stream",
     "text": [
      "ERRO: ID do grupo deve ser entre 1 e 99.\n",
      "ERRO (DT): Métricas de Accuracy devem ser todas entre 0 e 1.\n",
      "ERRO (DT): Métricas de F1 estão numa ordem errada.\n",
      "ERRO (DT): Previsões das classes devem todas ser 0 ou 1.\n",
      "ERRO (KNN): Previsões das classes devem todas ser 0 ou 1.\n",
      "ERRO (NB): Métricas de MCC devem ser todas entre -1 e 1.\n"
     ]
    }
   ],
   "source": [
    "# NÃO ALTERAR ESTE CÓDIGO\n",
    "# -----------------------\n",
    "erros = False\n",
    "n_medidas_estimativa = 7\n",
    "data = pd.read_csv(nome_ficheiro_dados_novos, header=None)\n",
    "\n",
    "try:\n",
    "    res = np.loadtxt(nome_ficheiro_resultados)\n",
    "except Exception as e:\n",
    "    print(f\"ERRO: {e}\")\n",
    "    erros=True\n",
    "\n",
    "if not erros:\n",
    "    \n",
    "    linha = 0\n",
    "    ID_grupo = res[linha]\n",
    "    if not ID_grupo==GRUPO:\n",
    "        print(\"ERRO: ID do grupo no ficheiro diferente da variável GRUPO.\")\n",
    "        erros = True\n",
    "    if ID_grupo<1 or ID_grupo>99:\n",
    "        print(\"ERRO: ID do grupo deve ser entre 1 e 99.\")\n",
    "        erros = True\n",
    "    if not ID_grupo.is_integer():\n",
    "        print(\"ERRO: ID do grupo deve ser um inteiro.\")\n",
    "        erros = True\n",
    "    linha += 1\n",
    "\n",
    "    DT_Accuracy = res[linha:linha+n_medidas_estimativa]\n",
    "    if not np.all((DT_Accuracy >= 0) & (DT_Accuracy <= 1)):\n",
    "        print(\"ERRO (DT): Métricas de Accuracy devem ser todas entre 0 e 1.\")\n",
    "        erros = True\n",
    "    else:\n",
    "        sorted_DT = [DT_Accuracy[6],DT_Accuracy[4],DT_Accuracy[2],DT_Accuracy[1],DT_Accuracy[0],DT_Accuracy[3],DT_Accuracy[5]]\n",
    "        if not (sorted_DT == sorted(DT_Accuracy)):\n",
    "            print(\"ERRO (DT): Métricas de Accuracy estão numa ordem errada.\")\n",
    "            erros = True\n",
    "    linha += n_medidas_estimativa\n",
    "    DT_F1 = res[linha:linha+n_medidas_estimativa]\n",
    "    if not np.all((DT_F1 >= 0) & (DT_F1 <= 1)):\n",
    "        print(\"ERRO (DT): Métricas de F1 devem ser todas entre 0 e 1.\")\n",
    "        erros = True\n",
    "    else:\n",
    "        sorted_DT = [DT_F1[6],DT_F1[4],DT_F1[2],DT_F1[1],DT_F1[0],DT_F1[3],DT_F1[5]]\n",
    "        if not (sorted_DT == sorted(DT_F1)):\n",
    "            print(\"ERRO (DT): Métricas de F1 estão numa ordem errada.\")\n",
    "            erros = True\n",
    "    linha += n_medidas_estimativa\n",
    "    DT_MCC = res[linha:linha+n_medidas_estimativa]\n",
    "    if not np.all((DT_MCC >= -1) & (DT_MCC <= 1)):\n",
    "        print(\"ERRO (DT): Métricas de MCC devem ser todas entre -1 e 1.\")\n",
    "        erros = True\n",
    "    else:\n",
    "        sorted_DT = [DT_MCC[6],DT_MCC[4],DT_MCC[2],DT_MCC[1],DT_MCC[0],DT_MCC[3],DT_MCC[5]]\n",
    "        if not (sorted_DT == sorted(DT_MCC)):\n",
    "            print(\"ERRO (DT): Métricas de MCC estão numa ordem errada.\")\n",
    "            erros = True\n",
    "    linha += n_medidas_estimativa\n",
    "    DT_previsoes = res[linha:linha+data.shape[0]]\n",
    "    if not np.all((DT_previsoes==0) | (DT_previsoes==1)):\n",
    "        print(\"ERRO (DT): Previsões das classes devem todas ser 0 ou 1.\")\n",
    "        erros = True\n",
    "    linha += data.shape[0]\n",
    "\n",
    "    KNN_Accuracy = res[linha:linha+n_medidas_estimativa]\n",
    "    if not np.all((KNN_Accuracy >= 0) & (KNN_Accuracy <= 1)):\n",
    "        print(\"ERRO (KNN): Métricas de Accuracy devem ser todas entre 0 e 1.\")\n",
    "        erros = True\n",
    "    else:\n",
    "        sorted_KNN = [KNN_Accuracy[6],KNN_Accuracy[4],KNN_Accuracy[2],KNN_Accuracy[1],KNN_Accuracy[0],KNN_Accuracy[3],KNN_Accuracy[5]]\n",
    "        if not (sorted_KNN == sorted(KNN_Accuracy)):\n",
    "            print(\"ERRO (KNN): Métricas de Accuracy estão numa ordem errada.\")\n",
    "            erros = True\n",
    "    linha += n_medidas_estimativa\n",
    "    KNN_F1 = res[linha:linha+n_medidas_estimativa]\n",
    "    if not np.all((KNN_F1 >= 0) & (KNN_F1 <= 1)):\n",
    "        print(\"ERRO (KNN): Métricas de F1 devem ser todas entre 0 e 1.\")\n",
    "        erros = True\n",
    "    else:\n",
    "        sorted_KNN = [KNN_F1[6],KNN_F1[4],KNN_F1[2],KNN_F1[1],KNN_F1[0],KNN_F1[3],KNN_F1[5]]\n",
    "        if not (sorted_KNN == sorted(KNN_F1)):\n",
    "            print(\"ERRO (KNN): Métricas de F1 estão numa ordem errada.\")\n",
    "            erros = True\n",
    "    linha += n_medidas_estimativa\n",
    "    KNN_MCC = res[linha:linha+n_medidas_estimativa]\n",
    "    if not np.all((KNN_MCC >= -1) & (KNN_MCC <= 1)):\n",
    "        print(\"ERRO (KNN): Métricas de MCC devem ser todas entre -1 e 1.\")\n",
    "        erros = True\n",
    "    else:\n",
    "        sorted_KNN = [KNN_MCC[6],KNN_MCC[4],KNN_MCC[2],KNN_MCC[1],KNN_MCC[0],KNN_MCC[3],KNN_MCC[5]]\n",
    "        if not (sorted_KNN == sorted(KNN_MCC)):\n",
    "            print(\"ERRO (KNN): Métricas de MCC estão numa ordem errada.\")\n",
    "            erros = True    \n",
    "    linha += n_medidas_estimativa\n",
    "    KNN_previsoes = res[linha:linha+data.shape[0]]\n",
    "    if not np.all((KNN_previsoes==0) | (KNN_previsoes==1)):\n",
    "        print(\"ERRO (KNN): Previsões das classes devem todas ser 0 ou 1.\")\n",
    "        erros = True\n",
    "    linha += data.shape[0]\n",
    "\n",
    "    NB_Accuracy = res[linha:linha+n_medidas_estimativa]\n",
    "    if not np.all((NB_Accuracy >= 0) & (NB_Accuracy <= 1)):\n",
    "        print(\"ERRO (NB): Métricas de Accuracy devem ser todas entre 0 e 1.\")\n",
    "        erros = True\n",
    "    else:\n",
    "        sorted_NB = [NB_Accuracy[6],NB_Accuracy[4],NB_Accuracy[2],NB_Accuracy[1],NB_Accuracy[0],NB_Accuracy[3],NB_Accuracy[5]]\n",
    "        if not (sorted_NB == sorted(NB_Accuracy)):\n",
    "            print(\"ERRO (NB): Métricas de Accuracy estão numa ordem errada.\")\n",
    "            erros = True\n",
    "    linha += n_medidas_estimativa\n",
    "    NB_F1 = res[linha:linha+n_medidas_estimativa]\n",
    "    if not np.all((NB_F1 >= 0) & (NB_F1 <= 1)):\n",
    "        print(\"ERRO (NB): Métricas de F1 devem ser todas entre 0 e 1.\")\n",
    "        erros = True\n",
    "    else:\n",
    "        sorted_NB = [NB_F1[6],NB_F1[4],NB_F1[2],NB_F1[1],NB_F1[0],NB_F1[3],NB_F1[5]]\n",
    "        if not (sorted_NB == sorted(NB_F1)):\n",
    "            print(\"ERRO (NB): Métricas de F1 estão numa ordem errada.\")\n",
    "            erros = True\n",
    "    linha += n_medidas_estimativa\n",
    "    NB_MCC = res[linha:linha+n_medidas_estimativa]\n",
    "    if not np.all((NB_MCC >= -1) & (NB_MCC <= 1)):\n",
    "        print(\"ERRO (NB): Métricas de MCC devem ser todas entre -1 e 1.\")\n",
    "        erros = True\n",
    "    else:\n",
    "        sorted_NB = [NB_MCC[6],NB_MCC[4],NB_MCC[2],NB_MCC[1],NB_MCC[0],NB_MCC[3],NB_MCC[5]]\n",
    "        if not (sorted_NB == sorted(NB_MCC)):\n",
    "            print(\"ERRO (NB): Métricas de MCC estão numa ordem errada.\")\n",
    "            erros = True\n",
    "    linha += n_medidas_estimativa\n",
    "    NB_previsoes = res[linha:linha+data.shape[0]]\n",
    "    if not np.all((NB_previsoes==0) | (NB_previsoes==1)):\n",
    "        print(\"ERRO (NB): Previsões das classes devem ser todas 0 ou 1.\")\n",
    "        erros = True\n",
    "    linha += data.shape[0]\n",
    "\n",
    "if not erros:\n",
    "    print('OK!')"
   ]
  },
  {
   "cell_type": "code",
   "execution_count": null,
   "id": "769be9de",
   "metadata": {},
   "outputs": [],
   "source": []
  }
 ],
 "metadata": {
  "kernelspec": {
   "display_name": "Python 3 (ipykernel)",
   "language": "python",
   "name": "python3"
  },
  "language_info": {
   "codemirror_mode": {
    "name": "ipython",
    "version": 3
   },
   "file_extension": ".py",
   "mimetype": "text/x-python",
   "name": "python",
   "nbconvert_exporter": "python",
   "pygments_lexer": "ipython3",
   "version": "3.11.5"
  }
 },
 "nbformat": 4,
 "nbformat_minor": 5
}
